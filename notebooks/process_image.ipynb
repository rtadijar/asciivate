{
 "cells": [
  {
   "cell_type": "code",
   "execution_count": 1,
   "metadata": {},
   "outputs": [],
   "source": [
    "\"\"\"\n",
    "Extracting edges from a single image or a folder of images. \n",
    "\n",
    "The processing procedure is the same as the preprocessing used in asciivate.cpp.\n",
    "\"\"\"\n",
    "\n",
    "import cv2\n",
    "import numpy as np \n",
    "  \n",
    "from glob import glob\n",
    "from pathlib import Path\n",
    "\n",
    "import numpy as np\n",
    "\n",
    "import matplotlib.pyplot as plt\n",
    "\n",
    "def process_image(fp):\n",
    "    img = cv2.imread(fp)\n",
    "\n",
    "    if img is None:\n",
    "        return\n",
    "\n",
    "\n",
    "    img = cv2.cvtColor(img, cv2.COLOR_BGR2GRAY)\n",
    "    img = cv2.bilateralFilter(img, 7, 300, 300)\n",
    "\n",
    "    v = np.median(img)\n",
    "\n",
    "    img = cv2.Canny(img, 40, 90)\n",
    "    img = cv2.GaussianBlur(img, (3, 3), 0)\n",
    "\n",
    "    return img\n",
    "\n",
    "def process_images(input_dir, output_dir):\n",
    "\n",
    "    Path(output_dir).mkdir(parents=True, exist_ok=True)\n",
    "\n",
    "    for ind, fp in enumerate(glob(input_dir + \"/*\")):\n",
    "\n",
    "        print(fp)\n",
    "\n",
    "        img = cv2.imread(fp)\n",
    "        \n",
    "        if img is None:\n",
    "            continue\n",
    "            \n",
    "\n",
    "        img = cv2.cvtColor(img, cv2.COLOR_BGR2GRAY)\n",
    "        img = cv2.bilateralFilter(img, 7, 300, 300)\n",
    "        \n",
    "        img = cv2.Canny(img, 40, 90)\n",
    "        img = cv2.GaussianBlur(img, (3, 3), 0)\n",
    "\n",
    "        cv2.imwrite(\"{}_{}.png\".format(output_dir, ind), img)"
   ]
  }
 ],
 "metadata": {
  "kernelspec": {
   "display_name": "ascii_env",
   "language": "python",
   "name": "ascii"
  },
  "language_info": {
   "codemirror_mode": {
    "name": "ipython",
    "version": 3
   },
   "file_extension": ".py",
   "mimetype": "text/x-python",
   "name": "python",
   "nbconvert_exporter": "python",
   "pygments_lexer": "ipython3",
   "version": "3.8.5"
  }
 },
 "nbformat": 4,
 "nbformat_minor": 4
}
